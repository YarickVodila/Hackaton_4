{
 "cells": [
  {
   "cell_type": "code",
   "execution_count": 5,
   "metadata": {
    "collapsed": true,
    "pycharm": {
     "name": "#%%\n"
    }
   },
   "outputs": [],
   "source": [
    "import matplotlib.pyplot as plt\n",
    "import numpy as np\n",
    "import pandas as pd\n",
    "from datetime import date, timedelta, datetime\n",
    "from catboost import CatBoostRegressor, Pool,CatBoostClassifier\n",
    "from sklearn.model_selection import train_test_split\n",
    "import matplotlib.pyplot as plt\n",
    "from sklearn.metrics import mean_squared_error\n",
    "from sklearn import metrics\n",
    "import tensorflow as tf\n",
    "from tensorflow import keras\n",
    "from tensorflow.keras.models import Sequential\n",
    "from sklearn import preprocessing\n",
    "import time\n",
    "from datetime import date, timedelta\n",
    "from openpyxl import Workbook, load_workbook\n",
    "import math"
   ]
  },
  {
   "cell_type": "code",
   "execution_count": 6,
   "outputs": [],
   "source": [
    "index = []"
   ],
   "metadata": {
    "collapsed": false,
    "pycharm": {
     "name": "#%%\n"
    }
   }
  },
  {
   "cell_type": "code",
   "execution_count": 8,
   "outputs": [],
   "source": [
    "index2 = []\n",
    "index3 = []"
   ],
   "metadata": {
    "collapsed": false,
    "pycharm": {
     "name": "#%%\n"
    }
   }
  },
  {
   "cell_type": "code",
   "execution_count": 34,
   "outputs": [
    {
     "name": "stdout",
     "output_type": "stream",
     "text": [
      "Евклидово расстояние =  18.355632265654137 id =  1055\n",
      "[-0.84033613  0.         -0.85470085  0.86956522  0.         -4.54545455\n",
      "  5.51181102  0.          1.49253731 13.84615385  0.         -4.31654676\n",
      "  0.          0.         -1.5037594 ]\n",
      "Евклидово расстояние =  36.22910126221773 id =  1359\n",
      "[ -1.50699677  -0.75431034  -1.73724213   6.53104925   6.48535565\n",
      "  -0.66225166   0.83194676  -0.74257426  31.58326497   6.9669247\n",
      " -11.38157895  -0.07806401   0.          -1.08949416   0.15760441]\n",
      "Евклидово расстояние =  13.933157897916407 id =  4343\n",
      "[-1.61691542  0.          0.          0.          0.          0.\n",
      "  0.         -1.89633375  0.78843627 10.03911343 -0.9478673   0.\n",
      "  0.         -1.21065375 -0.73529412]\n",
      "Евклидово расстояние =  20.053410220867452 id =  49458\n",
      "[-0.97303308 -1.28205128  0.11293055 10.77010514  3.64699332  0.\n",
      " -0.95742001  2.1206766  -0.17356806 10.133579   -7.15181932 -1.05941962\n",
      "  0.          0.30260708  0.6514658 ]\n"
     ]
    }
   ],
   "source": [
    "\n",
    "#month_end = int(input('Введите число конца месяца (например 31): '))\n",
    "#name_file_save = 'test_1.txt'\n",
    "# f = open('name_file_save', w+)\n",
    "# f.write(значение)\n",
    "# f.close()\n",
    "\n",
    "start_time = time.time()\n",
    "#WebPriceId     tDateObserve        tStockStatus        tCurrentPrice\n",
    "\n",
    "\n",
    "\n",
    "chunksize = 10000 #батч\n",
    "Id_corr = []\n",
    "file_name = 'DS_test8(2020-06--2022-08-21).csv'\n",
    "array = np.array([]) # Массив для\n",
    "cor_array = np.array([]) #Массив CPI\n",
    "\n",
    "id = 1 #Переменная которая содержит id признака которого сейчас рассматриваем\n",
    "num=1\n",
    "flag = False\n",
    "#s = 0\n",
    "count =0\n",
    "mean_cpi = 0\n",
    "\n",
    "#\n",
    "def data_exel_read(filename_read):\n",
    "\n",
    "    exel = load_workbook(filename_read) #загружаем ексель файл как объект\n",
    "    sheet = exel.sheetnames #получаем в виде списка названия листов\n",
    "    ws = exel[sheet[0]]\n",
    "    data = ws.values\n",
    "    Data = pd.DataFrame(data).to_numpy()\n",
    "    return Data[2][1:]\n",
    "\n",
    "date_df_y = data_exel_read('Y_train_adaptive.xlsx')\n",
    "date_df_y = date_df_y.astype(float)\n",
    "\n",
    "\n",
    "\n",
    "\n",
    "def processing(array, id):\n",
    "\n",
    "    global cor_array, mean_cpi,count\n",
    "    df = pd.DataFrame(data = array, columns= ['WebPriceId','tDateObserve','tStockStatus','tCurrentPrice'])\n",
    "    array_options = df.to_numpy()\n",
    "    OutOfStock = 0\n",
    "    #print(df['tStockStatus'].shape)\n",
    "    if df['tStockStatus'].value_counts()['InStock'] > 24:\n",
    "        #dt  = datetime.strptime(array[1][1], '%Y-%m-%d %H:%M:%S.%f').date()\n",
    "        df = df[df['tStockStatus']=='InStock']\n",
    "        #df['tCurrentPrice'] = np.where((df.tStockStatus == 'OutOfStock'), True, df.tCurrentPrice)\n",
    "        array = df.to_numpy()\n",
    "        #print(array)\n",
    "\n",
    "\n",
    "        first_inst  = datetime.strptime(array[0][1], '%Y-%m-%d %H:%M:%S.%f').date()\n",
    "        second_inst = datetime(2022, 8, 31).date() #Важно!!! До какого заполняем\n",
    "\n",
    "\n",
    "\n",
    "        date_range = pd.Series(pd.date_range(first_inst, periods = (second_inst-first_inst).days+1, freq ='D'))\n",
    "        #print(array)\n",
    "        zero_array = np.zeros(date_range.shape[0])\n",
    "\n",
    "        data_train = pd.DataFrame({'Data': date_range, 'price': zero_array, 'Bool': zero_array})\n",
    "        data_train['price'] = np.where((data_train.price == 0.0), None, data_train.price)\n",
    "        data_train['Bool'] = np.where((data_train.Bool == 0.0), None, data_train.Bool)\n",
    "\n",
    "        munth = pd.to_datetime(data_train.Data[0]).month\n",
    "        day = pd.to_datetime(data_train.Data[0]).day\n",
    "\n",
    "        for i in range(array.shape[0]):\n",
    "            data_train['price'] = np.where((data_train.Data == pd.to_datetime(datetime.strptime(array[i][1], '%Y-%m-%d %H:%M:%S.%f').date())), array[i][3], data_train.price)\n",
    "            #print(array[i][1])\n",
    "\n",
    "        data_train = data_train.fillna(method='ffill') #Получаем датафрейм с ценами и датами\n",
    "        num_day = 20 #''' !!!!!!!!!!!!!!!!!!!!!!!!!!!!!!!!!!!!!!!!!!!!!!!!!!!!!!!!!!!!!!!!!!!!!!!!!!!!!!! '''\n",
    "\n",
    "        for i in range((datetime(2021, 5, 31).date()-first_inst).days,zero_array.shape[0]): #Не забыть изменить смотря от дня\n",
    "            if  pd.to_datetime(data_train.Data[i]).day == num_day or ((pd.to_datetime(data_train.Data[i])+timedelta(days=1)).day == 1): #\n",
    "                data_train['Bool'] = np.where((data_train.Data == pd.to_datetime(data_train.Data[i])), True, data_train.Bool)\n",
    "                #print(pd.to_datetime(data_train.Data[i])+timedelta(days=1))\n",
    "\n",
    "        data_train.dropna(subset=['Bool'], inplace=True)\n",
    "        data_train = data_train.drop('Bool', axis=1)\n",
    "        #print(data_train)\n",
    "        #cpi = CPI(data_train,id)\n",
    "\n",
    "        #cor_array = np.array([])\n",
    "        dataframe_array = data_train.to_numpy()\n",
    "        data_train['CPI'] = np.zeros(data_train.shape[0])\n",
    "        #print(data_train)\n",
    "        #dataframe = dataframe[['price','CPI']].to_numpy()\n",
    "        #price_first = 0\n",
    "        #price_second = 0\n",
    "        CPI = np.array([])\n",
    "\n",
    "        if ((dataframe_array[0][0]).date()).day == num_day: #Не забыть изменить смотря от дня\n",
    "            dataframe_array = dataframe_array[1:]\n",
    "            #print(dataframe_array)\n",
    "\n",
    "        for i in range(0,data_train.shape[0]-1,2):\n",
    "            #print(data_train.shape[0])\n",
    "            CPI = np.append(CPI,(((dataframe_array[i+1][1]/dataframe_array[i][1])*100)-100))\n",
    "        #print(CPI)\n",
    "        #dataframe['CPI'] = np.where((dataframe.Data == pd.to_datetime((dataframe_array[i+2][0]).date())), ((dataframe_array[i+1][1]/dataframe_array[i][1])*100)-100, dataframe.CPI)\n",
    "\n",
    "        #print(date_df_y[len(date_df_y)-12:])\n",
    "        '''\n",
    "        if CPI.shape[0] == 12 and CPI.sum()!=0 and (np.corrcoef(CPI, date_df_y[len(date_df_y)-CPI.shape[0]:])[0][1]) > 0.86:\n",
    "            #cor_array = np.append(cor_array,(np.corrcoef(CPI, date_df_y[len(date_df_y)-12:])[0][1]))\n",
    "            cor_array = np.append(cor_array,(np.array([CPI])))\n",
    "            print('Корреляция равна = ',np.corrcoef(CPI, date_df_y[len(date_df_y)-CPI.shape[0]:])[0][1], 'id = ', id)\n",
    "            print(CPI)\n",
    "            mean_cpi += CPI[-1]\n",
    "            count+=1\n",
    "        '''\n",
    "\n",
    "        #cor_array = np.append(cor_array,(np.corrcoef(CPI, date_df_y[len(date_df_y)-12:])[0][1]))\n",
    "        cor_array = np.append(cor_array,(np.array([CPI])))\n",
    "        print('Евклидово расстояние = ',math.dist(CPI,date_df_y[len(date_df_y)-CPI.shape[0]:]), 'id = ', id)\n",
    "        print(CPI)\n",
    "        mean_cpi += CPI[-1]\n",
    "        count+=1\n",
    "\n",
    "'''\n",
    "        #return cpi\n",
    "        #print(data_train.to_string())\n",
    "        #print(array.shape[0])'''\n",
    "\n",
    "\n",
    "\n",
    "\n",
    "\n",
    "for chunk in pd.read_csv(file_name, sep='\\t', chunksize=chunksize):\n",
    "    #print(2)\n",
    "    '''\n",
    "    if chunk['WebPriceId'].to_numpy()[0] == id:\n",
    "        array = np.append(array, (chunk.to_numpy()))\n",
    "    else:\n",
    "        id = chunk['WebPriceId'].to_numpy()[0] #Обновляем айдишник\n",
    "        #print(array)\n",
    "        array = np.array([]) #Очищаем массив\n",
    "        array = np.append(array, (chunk.to_numpy())) #добавляем первое значение нового айдишника\n",
    "        print(id)'''\n",
    "    #print(id in chunk['WebPriceId'].to_numpy())\n",
    "    #sum+=chunk.to_numpy().shape[0]\n",
    "    #print(chunk.to_string())\n",
    "    while id in chunk['WebPriceId'].to_numpy():\n",
    "        if id-1 in chunk['WebPriceId'].to_numpy() and flag == True:\n",
    "            #print(np.reshape(array, (int(array.shape[0]/4), 4)))\n",
    "            array = np.append(array, (chunk[chunk['WebPriceId'] == id-1].to_numpy())) #Добавляем значения\n",
    "            array = np.reshape(array, (int(array.shape[0]/4), 4))\n",
    "            # Тут чёт делаем и потом очищаем массив и берём следующий батч\n",
    "            #cor_array = np.append(cor_array,(processing(array,id)))\n",
    "            if id in index2: #!!!!!!!!!!!!!!!!!!!!!!!!!!!!!!!!!!!!!!!!!!!!!!!!!!!!!!!!!!!!!!!!!!!!!!!!!!!!!!!!!!!!!!!!!!!!!!!!!!!!!!!!!!!!!\n",
    "                processing(array,id)\n",
    "            #print(np.reshape(array, (int(array.shape[0]/4), 4)))\n",
    "            array = np.array([]) #Очищаем массив\n",
    "            id+=1\n",
    "            flag = False\n",
    "            #break\n",
    "\n",
    "        elif id+1 in chunk['WebPriceId'].to_numpy(): #Если следующее значение есть то обнуляем значение и меняем id\n",
    "            array = np.append(array, (chunk[chunk['WebPriceId'] == id].to_numpy()))\n",
    "            # Тут чёт делаем и потом очищаем массив и берём следующий батч\n",
    "            array = np.reshape(array, (int(array.shape[0]/4), 4))\n",
    "            #print(pd.DataFrame(data = array, columns= ['WebPriceId','tDateObserve','tStockStatus','tCurrentPrice'])['tStockStatus'].value_counts())\n",
    "            if id in index2: #!!!!!!!!!!!!!!!!!!!!!!!!!!!!!!!!!!!!!!!!!!!!!!!!!!!!!!!!!!!!!!!!!!!!!!!!!!!!!!!!!!!!!!!!!!!!!!!!!!!!!!!!!!!!!\n",
    "                processing(array,id)\n",
    "            array = np.array([]) #Очищаем массив\n",
    "            id+=1\n",
    "            flag = False\n",
    "            #break\n",
    "\n",
    "        elif id+1 not in chunk['WebPriceId'].to_numpy():#Если следующего значения нет\n",
    "            array = np.append(array, (chunk[chunk['WebPriceId'] == id].to_numpy()))\n",
    "            id+=1\n",
    "            flag = True\n",
    "\n",
    "    #print(id)\n",
    "    #print(cor_array.shape[0])\n",
    "\n",
    "    if id >= 50000:\n",
    "        break\n",
    "\n",
    "\n",
    "name_file_save = 'test_adp_8.txt'\n",
    "f = open(name_file_save,'w+')\n",
    "f.write(str(mean_cpi/count))\n",
    "f.close()\n"
   ],
   "metadata": {
    "collapsed": false,
    "pycharm": {
     "name": "#%%\n"
    }
   }
  },
  {
   "cell_type": "code",
   "execution_count": null,
   "outputs": [],
   "source": [
    "######################"
   ],
   "metadata": {
    "collapsed": false,
    "pycharm": {
     "name": "#%%\n"
    }
   }
  },
  {
   "cell_type": "code",
   "execution_count": null,
   "outputs": [
    {
     "ename": "KeyboardInterrupt",
     "evalue": "",
     "output_type": "error",
     "traceback": [
      "\u001B[1;31m---------------------------------------------------------------------------\u001B[0m",
      "\u001B[1;31mKeyboardInterrupt\u001B[0m                         Traceback (most recent call last)",
      "Input \u001B[1;32mIn [22]\u001B[0m, in \u001B[0;36m<cell line: 136>\u001B[1;34m()\u001B[0m\n\u001B[0;32m    167\u001B[0m array \u001B[38;5;241m=\u001B[39m np\u001B[38;5;241m.\u001B[39mreshape(array, (\u001B[38;5;28mint\u001B[39m(array\u001B[38;5;241m.\u001B[39mshape[\u001B[38;5;241m0\u001B[39m]\u001B[38;5;241m/\u001B[39m\u001B[38;5;241m4\u001B[39m), \u001B[38;5;241m4\u001B[39m))\n\u001B[0;32m    168\u001B[0m \u001B[38;5;66;03m#print(pd.DataFrame(data = array, columns= ['WebPriceId','tDateObserve','tStockStatus','tCurrentPrice'])['tStockStatus'].value_counts())\u001B[39;00m\n\u001B[1;32m--> 169\u001B[0m \u001B[43mprocessing\u001B[49m\u001B[43m(\u001B[49m\u001B[43marray\u001B[49m\u001B[43m,\u001B[49m\u001B[38;5;28;43mid\u001B[39;49m\u001B[43m)\u001B[49m\n\u001B[0;32m    170\u001B[0m array \u001B[38;5;241m=\u001B[39m np\u001B[38;5;241m.\u001B[39marray([]) \u001B[38;5;66;03m#Очищаем массив\u001B[39;00m\n\u001B[0;32m    171\u001B[0m \u001B[38;5;28mid\u001B[39m\u001B[38;5;241m+\u001B[39m\u001B[38;5;241m=\u001B[39m\u001B[38;5;241m1\u001B[39m\n",
      "Input \u001B[1;32mIn [22]\u001B[0m, in \u001B[0;36mprocessing\u001B[1;34m(array, id)\u001B[0m\n\u001B[0;32m     79\u001B[0m \u001B[38;5;28;01mfor\u001B[39;00m i \u001B[38;5;129;01min\u001B[39;00m \u001B[38;5;28mrange\u001B[39m((datetime(\u001B[38;5;241m2021\u001B[39m, \u001B[38;5;241m5\u001B[39m, \u001B[38;5;241m31\u001B[39m)\u001B[38;5;241m.\u001B[39mdate()\u001B[38;5;241m-\u001B[39mfirst_inst)\u001B[38;5;241m.\u001B[39mdays,zero_array\u001B[38;5;241m.\u001B[39mshape[\u001B[38;5;241m0\u001B[39m]): \u001B[38;5;66;03m#Не забыть изменить смотря от дня\u001B[39;00m\n\u001B[0;32m     80\u001B[0m     \u001B[38;5;28;01mif\u001B[39;00m ((pd\u001B[38;5;241m.\u001B[39mto_datetime(data_train\u001B[38;5;241m.\u001B[39mData[i])\u001B[38;5;241m+\u001B[39mtimedelta(days\u001B[38;5;241m=\u001B[39m\u001B[38;5;241m1\u001B[39m))\u001B[38;5;241m.\u001B[39mday \u001B[38;5;241m==\u001B[39m \u001B[38;5;241m1\u001B[39m): \u001B[38;5;66;03m#pd.to_datetime(data_train.Data[i]).day == num_day or\u001B[39;00m\n\u001B[1;32m---> 81\u001B[0m         data_train[\u001B[38;5;124m'\u001B[39m\u001B[38;5;124mBool\u001B[39m\u001B[38;5;124m'\u001B[39m] \u001B[38;5;241m=\u001B[39m np\u001B[38;5;241m.\u001B[39mwhere((\u001B[43mdata_train\u001B[49m\u001B[38;5;241;43m.\u001B[39;49m\u001B[43mData\u001B[49m\u001B[43m \u001B[49m\u001B[38;5;241;43m==\u001B[39;49m\u001B[43m \u001B[49m\u001B[43mpd\u001B[49m\u001B[38;5;241;43m.\u001B[39;49m\u001B[43mto_datetime\u001B[49m\u001B[43m(\u001B[49m\u001B[43mdata_train\u001B[49m\u001B[38;5;241;43m.\u001B[39;49m\u001B[43mData\u001B[49m\u001B[43m[\u001B[49m\u001B[43mi\u001B[49m\u001B[43m]\u001B[49m\u001B[43m)\u001B[49m), \u001B[38;5;28;01mTrue\u001B[39;00m, data_train\u001B[38;5;241m.\u001B[39mBool)\n\u001B[0;32m     82\u001B[0m         \u001B[38;5;66;03m#print(pd.to_datetime(data_train.Data[i])+timedelta(days=1))\u001B[39;00m\n\u001B[0;32m     84\u001B[0m data_train\u001B[38;5;241m.\u001B[39mdropna(subset\u001B[38;5;241m=\u001B[39m[\u001B[38;5;124m'\u001B[39m\u001B[38;5;124mBool\u001B[39m\u001B[38;5;124m'\u001B[39m], inplace\u001B[38;5;241m=\u001B[39m\u001B[38;5;28;01mTrue\u001B[39;00m)\n",
      "File \u001B[1;32m~\\anaconda3\\lib\\site-packages\\pandas\\core\\ops\\common.py:70\u001B[0m, in \u001B[0;36m_unpack_zerodim_and_defer.<locals>.new_method\u001B[1;34m(self, other)\u001B[0m\n\u001B[0;32m     66\u001B[0m             \u001B[38;5;28;01mreturn\u001B[39;00m \u001B[38;5;28mNotImplemented\u001B[39m\n\u001B[0;32m     68\u001B[0m other \u001B[38;5;241m=\u001B[39m item_from_zerodim(other)\n\u001B[1;32m---> 70\u001B[0m \u001B[38;5;28;01mreturn\u001B[39;00m \u001B[43mmethod\u001B[49m\u001B[43m(\u001B[49m\u001B[38;5;28;43mself\u001B[39;49m\u001B[43m,\u001B[49m\u001B[43m \u001B[49m\u001B[43mother\u001B[49m\u001B[43m)\u001B[49m\n",
      "File \u001B[1;32m~\\anaconda3\\lib\\site-packages\\pandas\\core\\arraylike.py:40\u001B[0m, in \u001B[0;36mOpsMixin.__eq__\u001B[1;34m(self, other)\u001B[0m\n\u001B[0;32m     38\u001B[0m \u001B[38;5;129m@unpack_zerodim_and_defer\u001B[39m(\u001B[38;5;124m\"\u001B[39m\u001B[38;5;124m__eq__\u001B[39m\u001B[38;5;124m\"\u001B[39m)\n\u001B[0;32m     39\u001B[0m \u001B[38;5;28;01mdef\u001B[39;00m \u001B[38;5;21m__eq__\u001B[39m(\u001B[38;5;28mself\u001B[39m, other):\n\u001B[1;32m---> 40\u001B[0m     \u001B[38;5;28;01mreturn\u001B[39;00m \u001B[38;5;28;43mself\u001B[39;49m\u001B[38;5;241;43m.\u001B[39;49m\u001B[43m_cmp_method\u001B[49m\u001B[43m(\u001B[49m\u001B[43mother\u001B[49m\u001B[43m,\u001B[49m\u001B[43m \u001B[49m\u001B[43moperator\u001B[49m\u001B[38;5;241;43m.\u001B[39;49m\u001B[43meq\u001B[49m\u001B[43m)\u001B[49m\n",
      "File \u001B[1;32m~\\anaconda3\\lib\\site-packages\\pandas\\core\\series.py:5623\u001B[0m, in \u001B[0;36mSeries._cmp_method\u001B[1;34m(self, other, op)\u001B[0m\n\u001B[0;32m   5620\u001B[0m rvalues \u001B[38;5;241m=\u001B[39m extract_array(other, extract_numpy\u001B[38;5;241m=\u001B[39m\u001B[38;5;28;01mTrue\u001B[39;00m, extract_range\u001B[38;5;241m=\u001B[39m\u001B[38;5;28;01mTrue\u001B[39;00m)\n\u001B[0;32m   5622\u001B[0m \u001B[38;5;28;01mwith\u001B[39;00m np\u001B[38;5;241m.\u001B[39merrstate(\u001B[38;5;28mall\u001B[39m\u001B[38;5;241m=\u001B[39m\u001B[38;5;124m\"\u001B[39m\u001B[38;5;124mignore\u001B[39m\u001B[38;5;124m\"\u001B[39m):\n\u001B[1;32m-> 5623\u001B[0m     res_values \u001B[38;5;241m=\u001B[39m \u001B[43mops\u001B[49m\u001B[38;5;241;43m.\u001B[39;49m\u001B[43mcomparison_op\u001B[49m\u001B[43m(\u001B[49m\u001B[43mlvalues\u001B[49m\u001B[43m,\u001B[49m\u001B[43m \u001B[49m\u001B[43mrvalues\u001B[49m\u001B[43m,\u001B[49m\u001B[43m \u001B[49m\u001B[43mop\u001B[49m\u001B[43m)\u001B[49m\n\u001B[0;32m   5625\u001B[0m \u001B[38;5;28;01mreturn\u001B[39;00m \u001B[38;5;28mself\u001B[39m\u001B[38;5;241m.\u001B[39m_construct_result(res_values, name\u001B[38;5;241m=\u001B[39mres_name)\n",
      "File \u001B[1;32m~\\anaconda3\\lib\\site-packages\\pandas\\core\\ops\\array_ops.py:269\u001B[0m, in \u001B[0;36mcomparison_op\u001B[1;34m(left, right, op)\u001B[0m\n\u001B[0;32m    260\u001B[0m         \u001B[38;5;28;01mraise\u001B[39;00m \u001B[38;5;167;01mValueError\u001B[39;00m(\n\u001B[0;32m    261\u001B[0m             \u001B[38;5;124m\"\u001B[39m\u001B[38;5;124mLengths must match to compare\u001B[39m\u001B[38;5;124m\"\u001B[39m, lvalues\u001B[38;5;241m.\u001B[39mshape, rvalues\u001B[38;5;241m.\u001B[39mshape\n\u001B[0;32m    262\u001B[0m         )\n\u001B[0;32m    264\u001B[0m \u001B[38;5;28;01mif\u001B[39;00m should_extension_dispatch(lvalues, rvalues) \u001B[38;5;129;01mor\u001B[39;00m (\n\u001B[0;32m    265\u001B[0m     (\u001B[38;5;28misinstance\u001B[39m(rvalues, (Timedelta, BaseOffset, Timestamp)) \u001B[38;5;129;01mor\u001B[39;00m right \u001B[38;5;129;01mis\u001B[39;00m NaT)\n\u001B[0;32m    266\u001B[0m     \u001B[38;5;129;01mand\u001B[39;00m \u001B[38;5;129;01mnot\u001B[39;00m is_object_dtype(lvalues\u001B[38;5;241m.\u001B[39mdtype)\n\u001B[0;32m    267\u001B[0m ):\n\u001B[0;32m    268\u001B[0m     \u001B[38;5;66;03m# Call the method on lvalues\u001B[39;00m\n\u001B[1;32m--> 269\u001B[0m     res_values \u001B[38;5;241m=\u001B[39m \u001B[43mop\u001B[49m\u001B[43m(\u001B[49m\u001B[43mlvalues\u001B[49m\u001B[43m,\u001B[49m\u001B[43m \u001B[49m\u001B[43mrvalues\u001B[49m\u001B[43m)\u001B[49m\n\u001B[0;32m    271\u001B[0m \u001B[38;5;28;01melif\u001B[39;00m is_scalar(rvalues) \u001B[38;5;129;01mand\u001B[39;00m isna(rvalues):  \u001B[38;5;66;03m# TODO: but not pd.NA?\u001B[39;00m\n\u001B[0;32m    272\u001B[0m     \u001B[38;5;66;03m# numpy does not like comparisons vs None\u001B[39;00m\n\u001B[0;32m    273\u001B[0m     \u001B[38;5;28;01mif\u001B[39;00m op \u001B[38;5;129;01mis\u001B[39;00m operator\u001B[38;5;241m.\u001B[39mne:\n",
      "File \u001B[1;32m~\\anaconda3\\lib\\site-packages\\pandas\\core\\ops\\common.py:70\u001B[0m, in \u001B[0;36m_unpack_zerodim_and_defer.<locals>.new_method\u001B[1;34m(self, other)\u001B[0m\n\u001B[0;32m     66\u001B[0m             \u001B[38;5;28;01mreturn\u001B[39;00m \u001B[38;5;28mNotImplemented\u001B[39m\n\u001B[0;32m     68\u001B[0m other \u001B[38;5;241m=\u001B[39m item_from_zerodim(other)\n\u001B[1;32m---> 70\u001B[0m \u001B[38;5;28;01mreturn\u001B[39;00m \u001B[43mmethod\u001B[49m\u001B[43m(\u001B[49m\u001B[38;5;28;43mself\u001B[39;49m\u001B[43m,\u001B[49m\u001B[43m \u001B[49m\u001B[43mother\u001B[49m\u001B[43m)\u001B[49m\n",
      "File \u001B[1;32m~\\anaconda3\\lib\\site-packages\\pandas\\core\\arraylike.py:40\u001B[0m, in \u001B[0;36mOpsMixin.__eq__\u001B[1;34m(self, other)\u001B[0m\n\u001B[0;32m     38\u001B[0m \u001B[38;5;129m@unpack_zerodim_and_defer\u001B[39m(\u001B[38;5;124m\"\u001B[39m\u001B[38;5;124m__eq__\u001B[39m\u001B[38;5;124m\"\u001B[39m)\n\u001B[0;32m     39\u001B[0m \u001B[38;5;28;01mdef\u001B[39;00m \u001B[38;5;21m__eq__\u001B[39m(\u001B[38;5;28mself\u001B[39m, other):\n\u001B[1;32m---> 40\u001B[0m     \u001B[38;5;28;01mreturn\u001B[39;00m \u001B[38;5;28;43mself\u001B[39;49m\u001B[38;5;241;43m.\u001B[39;49m\u001B[43m_cmp_method\u001B[49m\u001B[43m(\u001B[49m\u001B[43mother\u001B[49m\u001B[43m,\u001B[49m\u001B[43m \u001B[49m\u001B[43moperator\u001B[49m\u001B[38;5;241;43m.\u001B[39;49m\u001B[43meq\u001B[49m\u001B[43m)\u001B[49m\n",
      "File \u001B[1;32m~\\anaconda3\\lib\\site-packages\\pandas\\core\\arrays\\datetimelike.py:1028\u001B[0m, in \u001B[0;36mDatetimeLikeArrayMixin._cmp_method\u001B[1;34m(self, other, op)\u001B[0m\n\u001B[0;32m   1025\u001B[0m result \u001B[38;5;241m=\u001B[39m op(\u001B[38;5;28mself\u001B[39m\u001B[38;5;241m.\u001B[39m_ndarray\u001B[38;5;241m.\u001B[39mview(\u001B[38;5;124m\"\u001B[39m\u001B[38;5;124mi8\u001B[39m\u001B[38;5;124m\"\u001B[39m), other_vals\u001B[38;5;241m.\u001B[39mview(\u001B[38;5;124m\"\u001B[39m\u001B[38;5;124mi8\u001B[39m\u001B[38;5;124m\"\u001B[39m))\n\u001B[0;32m   1027\u001B[0m o_mask \u001B[38;5;241m=\u001B[39m isna(other)\n\u001B[1;32m-> 1028\u001B[0m mask \u001B[38;5;241m=\u001B[39m \u001B[38;5;28;43mself\u001B[39;49m\u001B[38;5;241;43m.\u001B[39;49m\u001B[43m_isnan\u001B[49m\u001B[43m \u001B[49m\u001B[38;5;241;43m|\u001B[39;49m\u001B[43m \u001B[49m\u001B[43mo_mask\u001B[49m\n\u001B[0;32m   1029\u001B[0m \u001B[38;5;28;01mif\u001B[39;00m mask\u001B[38;5;241m.\u001B[39many():\n\u001B[0;32m   1030\u001B[0m     nat_result \u001B[38;5;241m=\u001B[39m op \u001B[38;5;129;01mis\u001B[39;00m operator\u001B[38;5;241m.\u001B[39mne\n",
      "\u001B[1;31mKeyboardInterrupt\u001B[0m: "
     ]
    }
   ],
   "source": [
    "#month_end = int(input('Введите число конца месяца (например 31): '))\n",
    "#name_file_save = 'test_1.txt'\n",
    "# f = open('name_file_save', w+)\n",
    "# f.write(значение)\n",
    "# f.close()\n",
    "\n",
    "start_time = time.time()\n",
    "#WebPriceId     tDateObserve        tStockStatus        tCurrentPrice\n",
    "\n",
    "\n",
    "\n",
    "chunksize = 10000 #батч\n",
    "Id_corr = []\n",
    "file_name = 'DS_test2(2020-06--2022-06-21).csv'\n",
    "array = np.array([]) # Массив для\n",
    "cor_array = np.array([]) #Массив CPI\n",
    "\n",
    "id = 1 #Переменная которая содержит id признака которого сейчас рассматриваем\n",
    "num=1\n",
    "flag = False\n",
    "#s = 0\n",
    "count =0\n",
    "mean_cpi = 0\n",
    "\n",
    "#\n",
    "def data_exel_read(filename_read):\n",
    "\n",
    "    exel = load_workbook(filename_read) #загружаем ексель файл как объект\n",
    "    sheet = exel.sheetnames #получаем в виде списка названия листов\n",
    "    ws = exel[sheet[0]]\n",
    "    data = ws.values\n",
    "    Data = pd.DataFrame(data).to_numpy()\n",
    "    return Data[2][1:]\n",
    "\n",
    "date_df_y = data_exel_read('Y_train_adaptive.xlsx')\n",
    "date_df_y = date_df_y.astype(float)\n",
    "\n",
    "\n",
    "\n",
    "\n",
    "def processing(array, id):\n",
    "\n",
    "    global cor_array, mean_cpi,count\n",
    "    df = pd.DataFrame(data = array, columns= ['WebPriceId','tDateObserve','tStockStatus','tCurrentPrice'])\n",
    "    array_options = df.to_numpy()\n",
    "    OutOfStock = 0\n",
    "    #print(df['tStockStatus'].shape)\n",
    "    if df['tStockStatus'].value_counts()['InStock'] > 24:\n",
    "        #dt  = datetime.strptime(array[1][1], '%Y-%m-%d %H:%M:%S.%f').date()\n",
    "        df = df[df['tStockStatus']=='InStock']\n",
    "        #df['tCurrentPrice'] = np.where((df.tStockStatus == 'OutOfStock'), True, df.tCurrentPrice)\n",
    "        array = df.to_numpy()\n",
    "        #print(array)\n",
    "\n",
    "\n",
    "        first_inst  = datetime.strptime(array[0][1], '%Y-%m-%d %H:%M:%S.%f').date()\n",
    "        second_inst = datetime(2022, 5, 31).date() #Важно!!! До какого заполняем\n",
    "\n",
    "\n",
    "\n",
    "        date_range = pd.Series(pd.date_range(first_inst, periods = (second_inst-first_inst).days+1, freq ='D'))\n",
    "        #print(array)\n",
    "        zero_array = np.zeros(date_range.shape[0])\n",
    "\n",
    "        data_train = pd.DataFrame({'Data': date_range, 'price': zero_array, 'Bool': zero_array})\n",
    "        data_train['price'] = np.where((data_train.price == 0.0), None, data_train.price)\n",
    "        data_train['Bool'] = np.where((data_train.Bool == 0.0), None, data_train.Bool)\n",
    "\n",
    "        munth = pd.to_datetime(data_train.Data[0]).month\n",
    "        day = pd.to_datetime(data_train.Data[0]).day\n",
    "\n",
    "        for i in range(array.shape[0]):\n",
    "            data_train['price'] = np.where((data_train.Data == pd.to_datetime(datetime.strptime(array[i][1], '%Y-%m-%d %H:%M:%S.%f').date())), array[i][3], data_train.price)\n",
    "            #print(array[i][1])\n",
    "\n",
    "        data_train = data_train.fillna(method='ffill') #Получаем датафрейм с ценами и датами\n",
    "        num_day = 20 #''' !!!!!!!!!!!!!!!!!!!!!!!!!!!!!!!!!!!!!!!!!!!!!!!!!!!!!!!!!!!!!!!!!!!!!!!!!!!!!!!!!!!!!!!!!!!!!!!!!!!!!!!!!!!!!!!!!!! '''\n",
    "\n",
    "        for i in range((datetime(2021, 5, 31).date()-first_inst).days,zero_array.shape[0]): #Не забыть изменить смотря от дня\n",
    "            if ((pd.to_datetime(data_train.Data[i])+timedelta(days=1)).day == 1): #pd.to_datetime(data_train.Data[i]).day == num_day or\n",
    "                data_train['Bool'] = np.where((data_train.Data == pd.to_datetime(data_train.Data[i])), True, data_train.Bool)\n",
    "                #print(pd.to_datetime(data_train.Data[i])+timedelta(days=1))\n",
    "\n",
    "        data_train.dropna(subset=['Bool'], inplace=True)\n",
    "        data_train = data_train.drop('Bool', axis=1)\n",
    "        #print(data_train)\n",
    "        #cpi = CPI(data_train,id)\n",
    "\n",
    "        #cor_array = np.array([])\n",
    "        dataframe_array = data_train.to_numpy()\n",
    "        data_train['CPI'] = np.zeros(data_train.shape[0])\n",
    "        #print(data_train)\n",
    "        #dataframe = dataframe[['price','CPI']].to_numpy()\n",
    "        #price_first = 0\n",
    "        #price_second = 0\n",
    "        CPI = np.array([])\n",
    "\n",
    "        if ((dataframe_array[0][0]).date()).day == num_day: #Не забыть изменить смотря от дня\n",
    "            dataframe_array = dataframe_array[1:]\n",
    "            #print(dataframe_array)\n",
    "\n",
    "        for i in range(0,data_train.shape[0]-1,2):\n",
    "            #print(data_train.shape[0])\n",
    "            CPI = np.append(CPI,(((dataframe_array[i+1][1]/dataframe_array[i][1])*100)-100))\n",
    "        #print(CPI)\n",
    "            #dataframe['CPI'] = np.where((dataframe.Data == pd.to_datetime((dataframe_array[i+2][0]).date())), ((dataframe_array[i+1][1]/dataframe_array[i][1])*100)-100, dataframe.CPI)\n",
    "\n",
    "        #print(date_df_y[len(date_df_y)-12:])\n",
    "        '''\n",
    "        if CPI.shape[0] == 12 and CPI.sum()!=0 and (np.corrcoef(CPI, date_df_y[len(date_df_y)-CPI.shape[0]:])[0][1]) > 0.86:\n",
    "            #cor_array = np.append(cor_array,(np.corrcoef(CPI, date_df_y[len(date_df_y)-12:])[0][1]))\n",
    "            cor_array = np.append(cor_array,(np.array([CPI])))\n",
    "            print('Корреляция равна = ',np.corrcoef(CPI, date_df_y[len(date_df_y)-CPI.shape[0]:])[0][1], 'id = ', id)\n",
    "            print(CPI)\n",
    "            mean_cpi += CPI[-1]\n",
    "            count+=1\n",
    "        '''\n",
    "        if CPI.sum()!=0 and (math.dist(CPI,date_df_y[len(date_df_y)-CPI.shape[0]:])) < 4: #\n",
    "            #cor_array = np.append(cor_array,(np.corrcoef(CPI, date_df_y[len(date_df_y)-12:])[0][1]))\n",
    "            cor_array = np.append(cor_array,(np.array([CPI])))\n",
    "            print('Евклидово расстояние = ',math.dist(CPI,date_df_y[len(date_df_y)-CPI.shape[0]:]), 'id = ', id)\n",
    "            print(CPI)\n",
    "            index3.append(id)\n",
    "            mean_cpi += CPI[-1]\n",
    "            count+=1\n",
    "\n",
    "'''\n",
    "        #return cpi\n",
    "        #print(data_train.to_string())\n",
    "        #print(array.shape[0])'''\n",
    "\n",
    "\n",
    "\n",
    "\n",
    "\n",
    "for chunk in pd.read_csv(file_name, sep='\\t', chunksize=chunksize):\n",
    "    #print(2)\n",
    "    '''\n",
    "    if chunk['WebPriceId'].to_numpy()[0] == id:\n",
    "        array = np.append(array, (chunk.to_numpy()))\n",
    "    else:\n",
    "        id = chunk['WebPriceId'].to_numpy()[0] #Обновляем айдишник\n",
    "        #print(array)\n",
    "        array = np.array([]) #Очищаем массив\n",
    "        array = np.append(array, (chunk.to_numpy())) #добавляем первое значение нового айдишника\n",
    "        print(id)'''\n",
    "    #print(id in chunk['WebPriceId'].to_numpy())\n",
    "    #sum+=chunk.to_numpy().shape[0]\n",
    "    #print(chunk.to_string())\n",
    "    while id in chunk['WebPriceId'].to_numpy():\n",
    "        if id-1 in chunk['WebPriceId'].to_numpy() and flag == True:\n",
    "            #print(np.reshape(array, (int(array.shape[0]/4), 4)))\n",
    "            array = np.append(array, (chunk[chunk['WebPriceId'] == id-1].to_numpy())) #Добавляем значения\n",
    "            array = np.reshape(array, (int(array.shape[0]/4), 4))\n",
    "            # Тут чёт делаем и потом очищаем массив и берём следующий батч\n",
    "            #cor_array = np.append(cor_array,(processing(array,id)))\n",
    "            processing(array,id)\n",
    "            #print(np.reshape(array, (int(array.shape[0]/4), 4)))\n",
    "            array = np.array([]) #Очищаем массив\n",
    "            id+=1\n",
    "            flag = False\n",
    "            #break\n",
    "\n",
    "        elif id+1 in chunk['WebPriceId'].to_numpy(): #Если следующее значение есть то обнуляем значение и меняем id\n",
    "            array = np.append(array, (chunk[chunk['WebPriceId'] == id].to_numpy()))\n",
    "            # Тут чёт делаем и потом очищаем массив и берём следующий батч\n",
    "            array = np.reshape(array, (int(array.shape[0]/4), 4))\n",
    "            #print(pd.DataFrame(data = array, columns= ['WebPriceId','tDateObserve','tStockStatus','tCurrentPrice'])['tStockStatus'].value_counts())\n",
    "            processing(array,id)\n",
    "            array = np.array([]) #Очищаем массив\n",
    "            id+=1\n",
    "            flag = False\n",
    "            #break\n",
    "\n",
    "        elif id+1 not in chunk['WebPriceId'].to_numpy():#Если следующего значения нет\n",
    "            array = np.append(array, (chunk[chunk['WebPriceId'] == id].to_numpy()))\n",
    "            id+=1\n",
    "            flag = True\n",
    "\n",
    "    #print(id)\n",
    "    #print(cor_array.shape[0])\n",
    "\n",
    "    if id >= 30000:\n",
    "        break\n",
    "'''\n",
    "    if cor_array.shape[0] == 48:\n",
    "        print(cor_array)\n",
    "        break\n",
    "'''\n",
    "\n",
    "'''\n",
    "name_file_save = 'test_1.txt'\n",
    "f = open(name_file_save,'w+')\n",
    "f.write(str(mean_cpi/count))\n",
    "f.close()'''\n",
    "print(id)\n",
    "print('Предсказание = :', mean_cpi/count)\n",
    "# 800 сек рекорд!!! +- 13 мин\n",
    "print(\"--- %s Время: ---\" % (time.time() - start_time))"
   ],
   "metadata": {
    "collapsed": false,
    "pycharm": {
     "name": "#%%\n"
    }
   }
  },
  {
   "cell_type": "code",
   "execution_count": 23,
   "outputs": [
    {
     "name": "stdout",
     "output_type": "stream",
     "text": [
      "[1055, 1359, 4343, 49458, 1055, 1359, 4343, 49458]\n"
     ]
    }
   ],
   "source": [
    "print(index)"
   ],
   "metadata": {
    "collapsed": false,
    "pycharm": {
     "name": "#%%\n"
    }
   }
  },
  {
   "cell_type": "code",
   "execution_count": 24,
   "outputs": [
    {
     "name": "stdout",
     "output_type": "stream",
     "text": [
      "[1055, 1359, 4343, 49458, 1055, 1359, 4343, 49458]\n"
     ]
    }
   ],
   "source": [
    "index2 = index\n",
    "print(index2)"
   ],
   "metadata": {
    "collapsed": false,
    "pycharm": {
     "name": "#%%\n"
    }
   }
  },
  {
   "cell_type": "code",
   "execution_count": 25,
   "outputs": [
    {
     "name": "stdout",
     "output_type": "stream",
     "text": [
      "[8510, 8537, 8595, 10633, 14145, 16974, 17010, 18250, 19303, 22435]\n"
     ]
    }
   ],
   "source": [
    "print(index3)"
   ],
   "metadata": {
    "collapsed": false,
    "pycharm": {
     "name": "#%%\n"
    }
   }
  },
  {
   "cell_type": "code",
   "execution_count": 95,
   "outputs": [
    {
     "name": "stdout",
     "output_type": "stream",
     "text": [
      "0.5\n"
     ]
    }
   ],
   "source": [
    "a = [1.5]\n",
    "b = [1.0]\n",
    "print(math.dist(a,b))"
   ],
   "metadata": {
    "collapsed": false,
    "pycharm": {
     "name": "#%%\n"
    }
   }
  },
  {
   "cell_type": "code",
   "execution_count": null,
   "outputs": [],
   "source": [],
   "metadata": {
    "collapsed": false,
    "pycharm": {
     "name": "#%%\n"
    }
   }
  }
 ],
 "metadata": {
  "kernelspec": {
   "display_name": "Python 3",
   "language": "python",
   "name": "python3"
  },
  "language_info": {
   "codemirror_mode": {
    "name": "ipython",
    "version": 2
   },
   "file_extension": ".py",
   "mimetype": "text/x-python",
   "name": "python",
   "nbconvert_exporter": "python",
   "pygments_lexer": "ipython2",
   "version": "2.7.6"
  }
 },
 "nbformat": 4,
 "nbformat_minor": 0
}